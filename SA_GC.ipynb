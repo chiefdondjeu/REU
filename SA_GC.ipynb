{
 "cells": [
  {
   "cell_type": "code",
   "execution_count": 1,
   "metadata": {},
   "outputs": [],
   "source": [
    "import networkx as nx\n",
    "import numpy as np\n",
    "import matplotlib.pyplot as plt\n",
    "from scipy.interpolate import BSpline\n",
    "from tqdm import tqdm"
   ]
  },
  {
   "cell_type": "markdown",
   "metadata": {},
   "source": [
    "## Functions"
   ]
  },
  {
   "cell_type": "code",
   "execution_count": 2,
   "metadata": {},
   "outputs": [],
   "source": [
    "# cost function\n",
    "def H(Graph, color_map):\n",
    "    cost = 0\n",
    "    for (v, w) in Graph.edges():\n",
    "        if color_map[v] == color_map[w]:\n",
    "            cost += 1\n",
    "    return cost"
   ]
  },
  {
   "cell_type": "code",
   "execution_count": 3,
   "metadata": {},
   "outputs": [],
   "source": [
    "# returns n number of colors\n",
    "def color_picker(n):\n",
    "    options = np.array( ['b', 'g', 'r', 'c', 'm', 'y', 'k'] )\n",
    "    return np.array( [options[i] for i in np.random.choice(options.size, n, replace=False)] )"
   ]
  },
  {
   "cell_type": "code",
   "execution_count": 4,
   "metadata": {},
   "outputs": [],
   "source": [
    "# generate random color map\n",
    "def gen_map(colors, n):\n",
    "    return np.array( [np.random.choice(colors) for i in range(n)] )"
   ]
  },
  {
   "cell_type": "code",
   "execution_count": 5,
   "metadata": {},
   "outputs": [],
   "source": [
    "# removes color x from list of colors and return another color other than x\n",
    "def new_color(colors, x):\n",
    "    return np.random.choice( np.setdiff1d(colors, x) )"
   ]
  },
  {
   "cell_type": "code",
   "execution_count": 6,
   "metadata": {},
   "outputs": [],
   "source": [
    "def highest_degree(Graph):\n",
    "    max = 0\n",
    "    for (v,d) in Graph.degree():\n",
    "        if d > max:\n",
    "            max = d\n",
    "    return max\n",
    "\n",
    "def avg_degree(Graph):\n",
    "    temp, total = Graph.degree(), 0\n",
    "    for (v,d) in temp:\n",
    "        total += d\n",
    "    return total/Graph.order() "
   ]
  },
  {
   "cell_type": "code",
   "execution_count": 16,
   "metadata": {},
   "outputs": [],
   "source": [
    "def anneal(Graph, coloring, colors):\n",
    "    init_temp = 50\n",
    "    final_temp = 0\n",
    "    alpha = .1\n",
    "    beta = 0.95\n",
    "\n",
    "    current_temp = init_temp\n",
    "    current_state = coloring.copy()\n",
    "    solution = current_state.copy()\n",
    "\n",
    "    while(current_temp > final_temp):\n",
    "        # pick random vertex\n",
    "        vertex = np.random.randint(0, Graph.order()-1)\n",
    "        \n",
    "        # choose dif color from orig and re-color\n",
    "        orig_color = current_state[vertex]\n",
    "        current_state[vertex] = new_color(colors, orig_color)\n",
    "        \n",
    "        # compute cost\n",
    "        cost = H(G, current_state) - H(G, solution)\n",
    "        if cost <= 0:\n",
    "            if np.random.uniform(0, 1) < np.exp(-cost/current_temp):\n",
    "                solution = current_state.copy()\n",
    "        elif cost > 0:\n",
    "            if np.random.uniform(0, 1) < np.exp(-beta*cost):\n",
    "                solution = current_state.copy()\n",
    "        else:\n",
    "            current_state[vertex] = orig_color\n",
    "        # decrease temp\n",
    "        current_temp -= alpha\n",
    "        \n",
    "    return solution"
   ]
  },
  {
   "cell_type": "markdown",
   "metadata": {},
   "source": [
    "## Confifurations"
   ]
  },
  {
   "cell_type": "code",
   "execution_count": 17,
   "metadata": {},
   "outputs": [],
   "source": [
    "colors = color_picker(3) # numb of possible colors (max 7)\n",
    "iterations = 100\n",
    "\n",
    "vert_count = 100\n",
    "edge_count = vert_count\n",
    "deg = 3"
   ]
  },
  {
   "cell_type": "markdown",
   "metadata": {},
   "source": [
    "## Generate a Random Graph"
   ]
  },
  {
   "cell_type": "code",
   "execution_count": 18,
   "metadata": {},
   "outputs": [
    {
     "name": "stdout",
     "output_type": "stream",
     "text": [
      "100 Vertices\n",
      "Highest deg: 3 | Avg deg: 3.0\n"
     ]
    }
   ],
   "source": [
    "# G = nx.gnm_random_graph(vert_count, edge_count)\n",
    "G = nx.random_degree_sequence_graph([deg for i in range(vert_count)]) # degree sequence\n",
    "# G = nx.configuration_model([deg for i in range(vert_count)])\n",
    "\n",
    "# nx.is_graphical(G)\n",
    "\n",
    "print(f\"{G.order()} Vertices\\nHighest deg: {highest_degree(G)} | Avg deg: {avg_degree(G)}\")\n",
    "\n",
    "if G.order() <= 10: # G.order number of nodes\n",
    "    pos = nx.spring_layout(G)\n",
    "    nx.draw(G, pos, with_labels=True)"
   ]
  },
  {
   "cell_type": "markdown",
   "metadata": {},
   "source": [
    "## Anneal"
   ]
  },
  {
   "cell_type": "code",
   "execution_count": 19,
   "metadata": {},
   "outputs": [
    {
     "name": "stderr",
     "output_type": "stream",
     "text": [
      "100%|██████████| 100/100 [00:16<00:00,  6.07it/s]"
     ]
    },
    {
     "name": "stdout",
     "output_type": "stream",
     "text": [
      "min cost 10\n"
     ]
    },
    {
     "name": "stderr",
     "output_type": "stream",
     "text": [
      "\n"
     ]
    }
   ],
   "source": [
    "coloring = gen_map(colors, G.order())\n",
    "min_cost = H(G, coloring)\n",
    "\n",
    "raw_data = np.array([min_cost])\n",
    "best_data = raw_data\n",
    "\n",
    "for i in tqdm(range(iterations)):\n",
    "    sol = anneal(G, coloring, colors)\n",
    "    sol_cost = H(G, sol)\n",
    "    raw_data = np.append(raw_data, sol_cost)\n",
    "    if sol_cost < min_cost:\n",
    "        coloring = sol\n",
    "        min_cost = sol_cost\n",
    "    best_data = np.append(best_data, min_cost)\n",
    "\n",
    "print(f\"min cost {H(G,coloring)}\")"
   ]
  },
  {
   "cell_type": "markdown",
   "metadata": {},
   "source": [
    "### * Graph"
   ]
  },
  {
   "cell_type": "code",
   "execution_count": 20,
   "metadata": {},
   "outputs": [],
   "source": [
    "if G.order() <= 10:\n",
    "    nx.draw(G, pos, node_color=coloring, with_labels=True)"
   ]
  },
  {
   "cell_type": "markdown",
   "metadata": {},
   "source": [
    "### ** Plots"
   ]
  },
  {
   "cell_type": "code",
   "execution_count": 21,
   "metadata": {},
   "outputs": [
    {
     "data": {
      "image/png": "[encoded data removed]",
      "text/plain": [
       "<Figure size 432x288 with 2 Axes>"
      ]
     },
     "metadata": {
      "needs_background": "light"
     },
     "output_type": "display_data"
    }
   ],
   "source": [
    "X = [ x for x in range(iterations+1)]\n",
    "\n",
    "#fig = plt.figure(1)\n",
    "plt.subplot(1, 2, 1)\n",
    "plt.plot(X, raw_data)\n",
    "plt.title(f\"{G.order()} Vertices | avg deg: {avg_degree(G)}\")\n",
    "plt.xlabel(\"Iterations\"), plt.ylabel(\"Cost\")\n",
    "\n",
    "#fig = plt.figure(2)\n",
    "plt.subplot(1, 2, 2)\n",
    "plt.plot(X, best_data)\n",
    "plt.xlabel(\"Iterations\"), plt.ylabel(\"Cost\")\n",
    "\n",
    "plt.tight_layout()"
   ]
  },
  {
   "cell_type": "markdown",
   "metadata": {},
   "source": [
    "### Refined Data"
   ]
  },
  {
   "cell_type": "code",
   "execution_count": 22,
   "metadata": {
    "tags": []
   },
   "outputs": [
    {
     "name": "stderr",
     "output_type": "stream",
     "text": [
      "100%|██████████| 100/100 [01:22<00:00,  1.21it/s]"
     ]
    },
    {
     "name": "stdout",
     "output_type": "stream",
     "text": [
      "min cost 2\n"
     ]
    },
    {
     "name": "stderr",
     "output_type": "stream",
     "text": [
      "\n"
     ]
    }
   ],
   "source": [
    "coloring = gen_map(colors, G.order())\n",
    "min_cost = H(G, coloring)\n",
    "\n",
    "cost_data = np.array([min_cost])\n",
    "avg = 5\n",
    "\n",
    "for i in tqdm(range(iterations)):\n",
    "    avg_run = np.array([])\n",
    "    for j in range(avg):\n",
    "        sol = anneal(G, coloring, colors)\n",
    "        sol_cost = H(G, sol)\n",
    "        avg_run = np.append(avg_run, sol_cost)\n",
    "        if sol_cost < min_cost:\n",
    "            coloring = sol\n",
    "            min_cost = sol_cost\n",
    "    cost_data = np.append(cost_data, np.average(avg_run))\n",
    "\n",
    "# for i in range(iterations):\n",
    "#     avg_run = np.array([])\n",
    "#     for j in range(avg):\n",
    "#         temp = list(anneal(G, color_map, colors))\n",
    "#         temp_cost = H(G,temp)\n",
    "#         avg_run = np.append(avg_run, temp_cost)\n",
    "#         if temp_cost < min_cost:\n",
    "#             color_map = temp.copy()\n",
    "#             min_cost = temp_cost\n",
    "#     cost_data.append(np.average(avg_run))\n",
    "\n",
    "print(f\"min cost {H(G,coloring)}\")"
   ]
  },
  {
   "cell_type": "markdown",
   "metadata": {},
   "source": [
    "### ** Plot"
   ]
  },
  {
   "cell_type": "code",
   "execution_count": 23,
   "metadata": {},
   "outputs": [
    {
     "data": {
      "text/plain": [
       "(Text(0.5, 0, 'Iterations'), Text(0, 0.5, 'Cost'))"
      ]
     },
     "execution_count": 23,
     "metadata": {},
     "output_type": "execute_result"
    },
    {
     "data": {
      "image/png": "[encoded data removed]",
      "text/plain": [
       "<Figure size 432x288 with 1 Axes>"
      ]
     },
     "metadata": {
      "needs_background": "light"
     },
     "output_type": "display_data"
    }
   ],
   "source": [
    "plt.plot([x for x in range(iterations+1)], cost_data)\n",
    "plt.title(f\"{G.order()} Vertices | avg deg: {avg_degree(G)}\")\n",
    "plt.xlabel(\"Iterations\"), plt.ylabel(\"Cost\")"
   ]
  },
  {
   "cell_type": "code",
   "execution_count": null,
   "metadata": {},
   "outputs": [],
   "source": []
  }
 ],
 "metadata": {
  "interpreter": {
   "hash": "aee8b7b246df8f9039afb4144a1f6fd8d2ca17a180786b69acc140d282b71a49"
  },
  "kernelspec": {
   "display_name": "Python 3",
   "language": "python",
   "name": "python3"
  },
  "language_info": {
   "codemirror_mode": {
    "name": "ipython",
    "version": 3
   },
   "file_extension": ".py",
   "mimetype": "text/x-python",
   "name": "python",
   "nbconvert_exporter": "python",
   "pygments_lexer": "ipython3",
   "version": "3.9.4"
  }
 },
 "nbformat": 4,
 "nbformat_minor": 4
}
