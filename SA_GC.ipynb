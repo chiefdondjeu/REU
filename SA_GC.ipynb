{
 "cells": [
  {
   "cell_type": "code",
   "execution_count": null,
   "metadata": {},
   "outputs": [],
   "source": [
    "import networkx as nx\n",
    "import numpy as np\n",
    "import matplotlib.pyplot as plt\n",
    "import random as rand"
   ]
  },
  {
   "cell_type": "code",
   "execution_count": null,
   "metadata": {},
   "outputs": [],
   "source": [
    "#G = nx.path_graph(3)\n",
    "G = nx.gnm_random_graph(10, 10) # node_count, edge_count\n",
    "\n",
    "pos = nx.spring_layout(G)\n",
    "nx.draw(G, pos, with_labels=True)\n",
    "plt.show()"
   ]
  },
  {
   "cell_type": "code",
   "execution_count": null,
   "metadata": {},
   "outputs": [],
   "source": [
    "def H(Graph, color_map):\n",
    "    E, cost = Graph.edges(), 0\n",
    "    for (v, w) in E:\n",
    "        if color_map[v] == color_map[w]:\n",
    "            cost += 1\n",
    "    return cost"
   ]
  },
  {
   "cell_type": "code",
   "execution_count": null,
   "metadata": {},
   "outputs": [],
   "source": [
    "def gen_map(L, n):\n",
    "    color_map = []\n",
    "    for i in range(n):\n",
    "        color_map.append(rand.choice(L))\n",
    "    return color_map"
   ]
  },
  {
   "cell_type": "code",
   "execution_count": null,
   "metadata": {},
   "outputs": [],
   "source": [
    "def new_color(L, ex):\n",
    "    L.remove(ex)\n",
    "    return rand.choice(L)"
   ]
  },
  {
   "cell_type": "code",
   "execution_count": null,
   "metadata": {},
   "outputs": [],
   "source": [
    "def anneal(Graph):\n",
    "    init_temp = 30\n",
    "    final_temp = 0\n",
    "    alpha = .1\n",
    "    beta = 0.95\n",
    "\n",
    "    colors = ['green', 'blue']  # list of possible colors\n",
    "\n",
    "    current_temp = init_temp\n",
    "    current_state = gen_map(colors, Graph.order())\n",
    "    solution = current_state.copy()\n",
    "\n",
    "    while(current_temp > final_temp):\n",
    "        vertex = rand.randint(0, Graph.order()-1)    # pick random vertex\n",
    "\n",
    "        orig_color = current_state[vertex]\n",
    "        current_state[vertex] = new_color(colors.copy(), orig_color)    # pick dif color from orig and re-color\n",
    "\n",
    "        cost = H(G, current_state) - H(G, solution)    # compute cost\n",
    "        if cost <= 0:\n",
    "            if np.random.uniform(0, 1) < np.exp(-cost/current_temp):\n",
    "                solution = current_state.copy()\n",
    "        elif cost > 0:\n",
    "            if H(G, current_state)/H(G, current_state) == np.exp(-beta*cost):\n",
    "                solution = current_state.copy()\n",
    "        else:\n",
    "            current_state[vertex] = orig_color\n",
    "        current_temp -= alpha\n",
    "    return solution"
   ]
  },
  {
   "cell_type": "code",
   "execution_count": null,
   "metadata": {},
   "outputs": [],
   "source": [
    "def highest_degree(Graph):\n",
    "    temp, max = Graph.degree(), 0\n",
    "    for (v,d) in temp:\n",
    "        if d > max:\n",
    "            max = d\n",
    "    return max\n",
    "\n",
    "def avg_degree(Graph):\n",
    "    temp, total = Graph.degree(), 0\n",
    "    for (v,d) in temp:\n",
    "        total += d\n",
    "    return total/Graph.order() "
   ]
  },
  {
   "cell_type": "code",
   "execution_count": null,
   "metadata": {},
   "outputs": [],
   "source": [
    "color_map = list(anneal(G))\n",
    "min_cost = H(G, color_map)\n",
    "\n",
    "for i in range(100):\n",
    "    temp = list(anneal(G))\n",
    "    temp_cost = H(G,temp)\n",
    "    if temp_cost < min_cost:\n",
    "        color_map = temp.copy()\n",
    "        min_cost = temp_cost\n",
    "\n",
    "print('cost: ' + str(min_cost))\n",
    "print('highest degree: ' + str(highest_degree(G)))\n",
    "print('avg degree: ' + str(avg_degree(G)))\n",
    "pos = nx.spring_layout(G)\n",
    "nx.draw(G, pos, node_color=color_map , with_labels=True)\n",
    "plt.show()"
   ]
  },
  {
   "cell_type": "code",
   "execution_count": null,
   "metadata": {},
   "outputs": [],
   "source": []
  }
 ],
 "metadata": {
  "interpreter": {
   "hash": "aee8b7b246df8f9039afb4144a1f6fd8d2ca17a180786b69acc140d282b71a49"
  },
  "kernelspec": {
   "name": "python3",
   "display_name": "Python 3.9.4 64-bit"
  },
  "language_info": {
   "codemirror_mode": {
    "name": "ipython",
    "version": 3
   },
   "file_extension": ".py",
   "mimetype": "text/x-python",
   "name": "python",
   "nbconvert_exporter": "python",
   "pygments_lexer": "ipython3",
   "version": "3.9.4"
  }
 },
 "nbformat": 4,
 "nbformat_minor": 4
}